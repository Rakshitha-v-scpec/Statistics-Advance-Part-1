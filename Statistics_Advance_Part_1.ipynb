{
  "nbformat": 4,
  "nbformat_minor": 0,
  "metadata": {
    "colab": {
      "provenance": []
    },
    "kernelspec": {
      "name": "python3",
      "display_name": "Python 3"
    },
    "language_info": {
      "name": "python"
    }
  },
  "cells": [
    {
      "cell_type": "markdown",
      "source": [
        "**Statistics Advance Part 1**"
      ],
      "metadata": {
        "id": "UNn_-JQI_EuV"
      }
    },
    {
      "cell_type": "markdown",
      "source": [
        "1. What is a random variable in probability theory?\n",
        "\n",
        "    In probability theory, a random variable is a variable that represents the outcome of a random experiment. It assigns a numerical value to each possible outcome in a sample space.\n",
        "\n",
        "There are two main types of random variables:\n",
        "\n",
        " - Discrete Random Variable\n",
        "\n",
        "  Takes on a countable number of distinct values.\n",
        "\n",
        "  Example: The result of rolling a die (possible values: 1, 2, 3, 4, 5, 6).\n",
        "\n",
        "- Continuous Random Variable\n",
        "\n",
        "  Takes on an infinite number of possible values within a given range.\n",
        "\n",
        "  Example: The exact height of a person, which can be any value within a range."
      ],
      "metadata": {
        "id": "ERboM_D8_G-o"
      }
    },
    {
      "cell_type": "markdown",
      "source": [
        "2. What are the types of random variables?\n",
        "\n",
        "    1. Discrete Random Variable\n",
        "Definition: Takes on a countable number of distinct values.\n",
        "\n",
        "    2. Continuous Random Variable\n",
        "Definition: Takes on uncountably infinite values within an interval or collection of intervals."
      ],
      "metadata": {
        "id": "ees1cuHC_RMh"
      }
    },
    {
      "cell_type": "markdown",
      "source": [
        "3. What is the difference between discrete and continuous distributions?\n",
        "\n",
        "    🔹 1. Discrete Distribution\n",
        "Definition:\n",
        "A distribution where the random variable takes on countable values (finite or countably infinite).\n",
        "\n",
        "  Key Features:\n",
        "\n",
        "  Probabilities are assigned to individual values.\n",
        "\n",
        "  Represented using a Probability Mass Function (PMF).\n",
        "\n",
        "  🔹 2. Continuous Distribution\n",
        "Definition:\n",
        "A distribution where the random variable can take any value in a continuous range (uncountably infinite values).\n",
        "\n",
        "  Key Features:\n",
        "\n",
        "  Probabilities are assigned to intervals, not individual values.\n",
        "\n",
        "  Represented using a Probability Density Function (PDF)."
      ],
      "metadata": {
        "id": "lS7rkSKH_i-t"
      }
    },
    {
      "cell_type": "markdown",
      "source": [
        "4. What are probability distribution functions (PDF)?\n",
        "\n",
        "    A Probability Distribution Function (PDF) describes how probabilities are distributed over the values of a random variable."
      ],
      "metadata": {
        "id": "meNVKZxt_6Ww"
      }
    },
    {
      "cell_type": "markdown",
      "source": [
        "5. How do cumulative distribution functions (CDF) differ from probability distribution functions (PDF)\n",
        "\n",
        "    1. PDF/PMF (Probability Distribution Function)\n",
        "Purpose: Describes the likelihood of a random variable taking on a specific value (PMF for discrete) or a value within a small interval (PDF for continuous).\n",
        "\n",
        "  P(X=x)=p(x)\n",
        "\n",
        "\n",
        "    2. CDF (Cumulative Distribution Function)\n",
        "  Purpose: Gives the probability that a random variable is less than or equal to a certain value:\n",
        "\n",
        "    𝐹 ( 𝑥 ) = 𝑃 ( 𝑋 ≤ 𝑥 ) F(x)=P(X≤x)"
      ],
      "metadata": {
        "id": "n7IDET8WAatF"
      }
    },
    {
      "cell_type": "markdown",
      "source": [
        "6. What is a discrete uniform distribution?\n",
        "\n",
        " A discrete uniform distribution assigns equal probability to each of the\n",
        "𝑛\n",
        "n possible values of a discrete random variable.\n",
        "\n",
        "Then, the probability mass function (PMF) is:\n",
        "\n",
        "P(X=x\n",
        "i\n",
        "​\n",
        " )=\n",
        "n\n",
        "1\n",
        "​\n",
        " ,for i=1,2,...,n\n",
        "\n"
      ],
      "metadata": {
        "id": "8WrA7jzEBJ_p"
      }
    },
    {
      "cell_type": "markdown",
      "source": [
        "7. What are the key properties of a Bernoulli distribution?\n",
        "\n",
        "  The Bernoulli distribution is one of the most basic and important distributions in probability theory. It models a single experiment (or trial) that has only two possible outcomes: success or failure."
      ],
      "metadata": {
        "id": "ELwe4v1nBtZr"
      }
    },
    {
      "cell_type": "markdown",
      "source": [
        "8. What is the binomial distribution, and how is it used in probability?\n",
        "    \n",
        "    The binomial distribution is a discrete probability distribution that models the number of successes in a fixed number of independent Bernoulli trials, each with the same probability of success.\n",
        "\n",
        "    🔹 Definition\n",
        "Let:\n",
        "\n",
        "𝑛\n",
        "n: number of trials\n",
        "\n",
        "𝑝\n",
        "p: probability of success on a single trial\n",
        "\n",
        "𝑋\n",
        "X: number of successes in\n",
        "𝑛\n",
        "n trials\n",
        "\n",
        "Then,\n",
        "𝑋\n",
        "∼\n",
        "Binomial\n",
        "(\n",
        "𝑛\n",
        ",\n",
        "𝑝\n",
        ")\n",
        "X∼Binomial(n,p), and the probability mass function (PMF) is:\n",
        "\n",
        "P(X=k)=(\n",
        "k\n",
        "n\n",
        "​\n",
        " )p\n",
        "k\n",
        " (1−p)\n",
        "n−k\n",
        " for k=0,1,2,…,n"
      ],
      "metadata": {
        "id": "L9pE8H9rB6As"
      }
    },
    {
      "cell_type": "markdown",
      "source": [
        "9. What is the Poisson distribution and where is it applied?\n",
        "\n",
        "    The Poisson distribution is a discrete probability distribution that models the number of times an event occurs in a fixed interval of time, space, or distance—when those events happen independently and at a constant average rate.\n",
        "\n",
        "\n",
        "  Definition:\n",
        "  \n",
        "If\n",
        "𝑋\n",
        "X is the number of occurrences of an event in a fixed interval, and the average number of occurrences is\n",
        "𝜆\n",
        "λ, then:\n",
        "\n",
        "𝑃\n",
        "(\n",
        "𝑋\n",
        "=\n",
        "𝑘\n",
        ")\n",
        "=\n",
        "𝜆\n",
        "𝑘\n",
        "𝑒\n",
        "−\n",
        "𝜆\n",
        "𝑘\n",
        "!\n",
        ",\n",
        "for\n",
        "𝑘\n",
        "=\n",
        "0\n",
        ",\n",
        "1\n",
        ",\n",
        "2\n",
        ",\n",
        "…\n",
        "P(X=k)=\n",
        "k!\n",
        "λ\n",
        "k\n",
        " e\n",
        "−λ\n",
        "\n",
        "​\n",
        " ,for k=0,1,2,…"
      ],
      "metadata": {
        "id": "_NhbgWRWCNCl"
      }
    },
    {
      "cell_type": "markdown",
      "source": [
        "10. What is a continuous uniform distribution?\n",
        "\n",
        "     Definition\n",
        "A continuous random variable\n",
        "𝑋\n",
        "X is said to have a continuous uniform distribution on the interval\n",
        "[\n",
        "𝑎\n",
        ",\n",
        "𝑏\n",
        "]\n",
        "[a,b] if its probability density function (PDF) is:\n",
        "\n",
        "𝑓\n",
        "(\n",
        "𝑥\n",
        ")\n",
        "=\n",
        "{\n",
        "1\n",
        "𝑏\n",
        "−\n",
        "𝑎\n",
        ",\n",
        "𝑎\n",
        "≤\n",
        "𝑥\n",
        "≤\n",
        "𝑏\n",
        "0\n",
        ",\n",
        "otherwise\n",
        "f(x)={\n",
        "b−a\n",
        "1\n",
        "​\n",
        " ,\n",
        "0,\n",
        "​\n",
        "  \n",
        "a≤x≤b\n",
        "otherwise\n",
        "​\n"
      ],
      "metadata": {
        "id": "K_d8sLP6CjTg"
      }
    },
    {
      "cell_type": "markdown",
      "source": [
        "11. What are the characteristics of a normal distribution?\n",
        "\n",
        "    The normal distribution—also called the Gaussian distribution—is one of the most important continuous probability distributions in statistics and probability theory.\n",
        "\n",
        "    - Many natural phenomena (heights, test scores, measurement errors) approximately follow a normal distribution.\n",
        "\n",
        "    - Central Limit Theorem: sums/averages of large samples tend to be normally distributed regardless of the original distribution."
      ],
      "metadata": {
        "id": "lg6vsXD3C2wg"
      }
    },
    {
      "cell_type": "markdown",
      "source": [
        "12.  What is the standard normal distribution, and why is it important?\n",
        "\n",
        "    The standard normal distribution is a special case of the normal distribution that has:\n",
        "\n",
        "Mean\n",
        "𝜇\n",
        "=\n",
        "0\n",
        "μ=0\n",
        "\n",
        "Standard deviation\n",
        "𝜎\n",
        "=\n",
        "1\n",
        "σ=1\n",
        "\n",
        "It is denoted as:\n",
        "\n",
        "𝑍\n",
        "∼\n",
        "𝑁\n",
        "(\n",
        "0\n",
        ",\n",
        "1\n",
        ")\n",
        "Z∼N(0,1)\n",
        "Where\n",
        "𝑍\n",
        "\n",
        "\n",
        "Z is a standard normal random variable.\n",
        "\n",
        "\n",
        "Importance:\n",
        "\n",
        "1. Used to Calculate Probabilities\n",
        "\n",
        "2. Simplifies Any Normal Problem\n",
        "\n",
        "3. Foundation for Hypothesis Testing & Confidence Intervals"
      ],
      "metadata": {
        "id": "h6GDNElpDGuz"
      }
    },
    {
      "cell_type": "markdown",
      "source": [
        "13. What is the Central Limit Theorem (CLT), and why is it critical in statistics?\n",
        "\n",
        "The Central Limit Theorem (CLT) is one of the most fundamental and powerful concepts in statistics. It explains why normal distributions are so widely used, even when the data itself isn’t normally distributed.\n",
        "\n",
        "criticals:\n",
        "\n",
        "1. Enables normal approximation\n",
        "2. Supports inferential statistics\n",
        "3. Practical in real-world data\n",
        "4. Simplifies complexity"
      ],
      "metadata": {
        "id": "lhIVGe5pDjEx"
      }
    },
    {
      "cell_type": "markdown",
      "source": [
        "14. How does the Central Limit Theorem relate to the normal distribution?\n",
        "\n",
        "  The Central Limit Theorem (CLT) and the normal distribution are deeply connected—the CLT is the reason why the normal distribution appears so frequently in statistics, even when the original data is not normal.\n",
        "\n",
        "\n",
        "  - CLT Explains the Emergence of the Normal Distribution\n",
        "  - Enables Normal Approximation"
      ],
      "metadata": {
        "id": "b_msuaMDEGKj"
      }
    },
    {
      "cell_type": "markdown",
      "source": [
        "15. What is the application of Z statistics in hypothesis testing?\n",
        "\n",
        "    Z-statistics (or Z-scores) are used in hypothesis testing to determine how far a sample statistic is from the population parameter in standard deviation units—under the assumption that the null hypothesis is true.\n",
        "\n",
        "    The Z-statistic measures how many standard errors a sample mean (or proportion) is from the population mean (or hypothesized value)"
      ],
      "metadata": {
        "id": "NzH9VRtEEa6k"
      }
    },
    {
      "cell_type": "markdown",
      "source": [
        "16. How do you calculate a Z-score, and what does it represent?\n",
        "\n",
        "    A Z-score (or standard score) tells you how many standard deviations a data point is from the mean of a distribution. It’s a way of standardizing values so they can be compared—even across different distributions.\n",
        "\n",
        "     Z-Score Formula\n",
        "For a raw data point\n",
        "𝑥\n",
        "x from a population:\n",
        "\n",
        "\n",
        "Where:\n",
        "\n",
        "𝑥\n",
        "x = the observed value\n",
        "\n",
        "𝜇\n",
        "μ = population mean\n",
        "\n",
        "𝜎\n",
        "σ = population standard deviation"
      ],
      "metadata": {
        "id": "qTLOmnwNE5ah"
      }
    },
    {
      "cell_type": "markdown",
      "source": [
        "17. What are point estimates and interval estimates in statistics?\n",
        "\n",
        "    🔹 1. Point Estimate\n",
        "A point estimate is a single value used to estimate an unknown population parameter.\n",
        "\n",
        "✅ Examples:\n",
        "The sample mean\n",
        "𝑥\n",
        "ˉ\n",
        "x\n",
        "ˉ\n",
        "  estimates the population mean\n",
        "𝜇\n",
        "μ\n",
        "\n",
        "The sample proportion\n",
        "𝑝\n",
        "^\n",
        "p\n",
        "^\n",
        "​\n",
        "  estimates the population proportion\n",
        "𝑝\n",
        "p\n",
        "\n",
        "🔹 Interpretation:\n",
        "A point estimate gives a best guess, but no information about its precision or uncertainty\n",
        "\n",
        "🔹 1. Point Estimate\n",
        "A point estimate is a single value used to estimate an unknown population parameter.\n",
        "\n",
        "✅ Examples:\n",
        "The sample mean\n",
        "𝑥\n",
        "ˉ\n",
        "x\n",
        "ˉ\n",
        "  estimates the population mean\n",
        "𝜇\n",
        "μ\n",
        "\n",
        "The sample proportion\n",
        "𝑝\n",
        "^\n",
        "p\n",
        "^\n",
        "​\n",
        "  estimates the population proportion\n",
        "𝑝\n",
        "p\n",
        "\n",
        "🔹 Interpretation:\n",
        "A point estimate gives a best guess, but no information about its precision or uncertainty\n",
        "\n",
        "🔹 2. Interval Estimate (Confidence Interval)\n",
        "An interval estimate gives a range of values (an interval) that is likely to contain the population parameter, along with a confidence level.\n",
        "\n",
        "✅ General Form:\n",
        "Point estimate\n",
        "±\n",
        "Margin of Error\n",
        "Point estimate±Margin of Error"
      ],
      "metadata": {
        "id": "_LLvfOhnFNnR"
      }
    },
    {
      "cell_type": "markdown",
      "source": [
        "18. What is the significance of confidence intervals in statistical analysis?\n",
        "\n",
        "    The significance of confidence intervals (CIs) in statistical analysis lies in their ability to express uncertainty around an estimate. While a point estimate gives a single \"best guess\" for a population parameter, a confidence interval provides a range of plausible values for that parameter—with a specified level of confidence.\n",
        "\n"
      ],
      "metadata": {
        "id": "XCX8YH_DFlUD"
      }
    },
    {
      "cell_type": "markdown",
      "source": [
        "19. What is the relationship between a Z-score and a confidence interval?\n",
        "\n",
        "  - Z - score: \tDetermines how far from the mean we go for a CI\n",
        "\n",
        "  - Confidence Interval: \tUses the Z-score to define a range for the true parameter\n",
        "\n",
        "  - Confidence level\tDictates which Z-score to use (90%, 95%, etc.)\n",
        "\n"
      ],
      "metadata": {
        "id": "Pd-PUCoZF3bq"
      }
    },
    {
      "cell_type": "markdown",
      "source": [
        "20. How are Z-scores used to compare different distributions?\n",
        "\n",
        "  Z-scores are essential for comparing values across different distributions, especially when those distributions have different means and standard deviations. They allow us to put values on the same standardized scale."
      ],
      "metadata": {
        "id": "yEn3pcJHGtAZ"
      }
    },
    {
      "cell_type": "markdown",
      "source": [
        "21. What are the assumptions for applying the Central Limit Theorem?\n",
        "\n",
        "    -  Random Sampling: The data should come from a random sample or randomized process.\n",
        "\n",
        "    - Independence:\tObservations must be independent of each other.\n",
        "\n",
        "    - Identical Distribution (i.i.d.):\tEach observation should come from the same distribution.\n",
        "\n",
        "    - Finite Mean and Variance\tThe population must have a finite mean\n",
        "𝜇\n",
        "μ and finite variance\n",
        "𝜎\n",
        "2\n",
        "σ\n",
        "2\n",
        " ."
      ],
      "metadata": {
        "id": "OEe9_C4gG3lD"
      }
    },
    {
      "cell_type": "markdown",
      "source": [
        "22. What is the concept of expected value in a probability distribution?\n",
        "\n",
        "    The expected value (or mean) of a probability distribution is the long-run average or weighted average of all possible outcomes, where each outcome is weighted by its probability.\n",
        "\n",
        "    What Is Expected Value?\n",
        "    \n",
        "    It’s a measure of the central tendency of a random variable.\n",
        "\n",
        "    Intuitively, if you repeat an experiment many times, the average of the observed outcomes will approach the expected value.\n"
      ],
      "metadata": {
        "id": "mO-cSG2mHSbp"
      }
    },
    {
      "cell_type": "markdown",
      "source": [
        "23. How does a probability distribution relate to the expected outcome of a random variable?\n",
        "\n",
        " Relationship Between Probability Distribution and Expected Outcome\n",
        "The probability distribution assigns probabilities\n",
        "𝑝\n",
        "𝑖\n",
        "p\n",
        "i\n",
        "​\n",
        "  (for discrete) or probability densities\n",
        "𝑓\n",
        "(\n",
        "𝑥\n",
        ")\n",
        "f(x) (for continuous) to every possible value\n",
        "𝑥\n",
        "𝑖\n",
        "x\n",
        "i\n",
        "​\n",
        "  that the random variable can take.\n",
        "\n",
        "The expected value\n",
        "𝐸\n",
        "(\n",
        "𝑋\n",
        ")\n",
        "E(X) is the weighted average of these outcomes, where each value is weighted by its probability."
      ],
      "metadata": {
        "id": "eRAjQjM8Hh1T"
      }
    }
  ]
}